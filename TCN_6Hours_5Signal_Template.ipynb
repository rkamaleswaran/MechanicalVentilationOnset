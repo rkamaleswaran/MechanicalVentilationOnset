{
 "cells": [
  {
   "cell_type": "markdown",
   "metadata": {},
   "source": [
    "TCN Model to predict the need for Mechnical Ventilation\n",
    "Signals Used: PPG, ECG I,II,III,V"
   ]
  },
  {
   "cell_type": "code",
   "execution_count": null,
   "metadata": {},
   "outputs": [],
   "source": [
    "import pandas as pd\n",
    "import numpy as np\n",
    "import matplotlib.pyplot as plt \n",
    "from matplotlib.axis import Axis\n",
    "from sklearn.metrics import mean_squared_error\n",
    "import keras\n",
    "\n",
    "import numpy as np\n",
    "import tensorflow as tf\n",
    "from tensorflow import keras\n",
    "from tensorflow.keras import layers\n",
    "\n",
    "from datetime import datetime\n",
    "from packaging import version\n",
    "import glob\n",
    "import os\n",
    "\n",
    "import pandas as pd\n",
    "import numpy as np\n",
    "import matplotlib.pyplot as plt \n",
    "from matplotlib.axis import Axis\n",
    "from sklearn.metrics import mean_squared_error\n",
    "import keras"
   ]
  },
  {
   "cell_type": "code",
   "execution_count": null,
   "metadata": {},
   "outputs": [],
   "source": [
    "import matplotlib.pyplot as plt\n",
    "from matplotlib.pyplot import figure\n",
    "from tensorflow.keras.layers import Dense\n",
    "from tensorflow.keras.layers import InputLayer\n",
    "from tensorflow.keras import Input, Model\n",
    "from tcn import TCN, tcn_full_summary\n",
    "from sklearn.metrics import mean_squared_error\n",
    "\n",
    "import tensorflow as tf\n",
    "from tensorflow import keras\n",
    "from tensorflow.keras import layers"
   ]
  },
  {
   "cell_type": "code",
   "execution_count": null,
   "metadata": {},
   "outputs": [],
   "source": [
    "print(\"TF version:\" , tf.__version__)\n",
    "physical_devices = tf.config.list_physical_devices('GPU')\n",
    "print(physical_devices)\n",
    "tf.config.experimental.set_memory_growth(physical_devices[0], enable=True)"
   ]
  },
  {
   "cell_type": "code",
   "execution_count": null,
   "metadata": {},
   "outputs": [],
   "source": [
    "print(tf.version.VERSION)\n",
    "print(keras.__version__)"
   ]
  },
  {
   "cell_type": "code",
   "execution_count": null,
   "metadata": {},
   "outputs": [],
   "source": [
    "print(physical_devices)"
   ]
  },
  {
   "cell_type": "code",
   "execution_count": null,
   "metadata": {},
   "outputs": [],
   "source": [
    "num_signal = 5\n",
    "time = 6*60\n",
    "period = 60\n",
    "slots_permin = 1\n",
    "num_half_data_chunks = 6*60\n",
    "num_points_perdatapoint = period * 240 \n",
    "num_total_patients = 87\n",
    "num_training_patients = 60\n",
    "num_validation_patients = 10\n",
    "num_testing_patients = 17\n",
    "num_half_data_points = num_total_patients*240*60*time\n"
   ]
  },
  {
   "cell_type": "code",
   "execution_count": null,
   "metadata": {},
   "outputs": [],
   "source": [
    "#np.save(\"hours6_allsignal_admit\",Data0)"
   ]
  },
  {
   "cell_type": "code",
   "execution_count": null,
   "metadata": {},
   "outputs": [],
   "source": [
    "Data = np.load(\"hours6_allsignal_complete.npy\")"
   ]
  },
  {
   "cell_type": "code",
   "execution_count": null,
   "metadata": {},
   "outputs": [],
   "source": [
    "print(Data)"
   ]
  },
  {
   "cell_type": "code",
   "execution_count": null,
   "metadata": {},
   "outputs": [],
   "source": [
    "#Uncomment to visualize the dataset\n",
    "'''\n",
    "plt.rcParams[\"figure.figsize\"] = (20,150)\n",
    "figure, axis = plt.subplots(27, 3)\n",
    "for i in range(3):\n",
    "    for j in range(27):\n",
    "        axis[j, i].plot(Data0[j*3+i])\n",
    "        axis[j, i].set_title(\"Patient # {}\" .format(j*3+i))\n",
    "'''"
   ]
  },
  {
   "cell_type": "code",
   "execution_count": null,
   "metadata": {},
   "outputs": [],
   "source": [
    "'''\n",
    "plt.rcParams[\"figure.figsize\"] = (20,150)\n",
    "figure, axis = plt.subplots(27, 3)\n",
    "for i in range(3):\n",
    "    for j in range(27):\n",
    "        axis[j, i].plot(Data1[j*3+i])\n",
    "        axis[j, i].set_title(\"Patient # {}\" .format(j*3+i))\n",
    "'''"
   ]
  },
  {
   "cell_type": "code",
   "execution_count": null,
   "metadata": {},
   "outputs": [],
   "source": [
    "Data = np.nan_to_num(Data)"
   ]
  },
  {
   "cell_type": "code",
   "execution_count": null,
   "metadata": {},
   "outputs": [],
   "source": [
    "print(Data.shape)\n",
    "print(Data.shape[0]/240/60/60,\"Hours\")"
   ]
  },
  {
   "cell_type": "code",
   "execution_count": null,
   "metadata": {},
   "outputs": [],
   "source": [
    "print(Data.shape)"
   ]
  },
  {
   "cell_type": "code",
   "execution_count": null,
   "metadata": {},
   "outputs": [],
   "source": [
    "#Setting up training,validation and test set while isolating patients in each set.\n",
    "Training_data = np.zeros((2*num_training_patients*time*60*240,num_signal))\n",
    "validation_data = np.zeros((2*num_validation_patients*time*60*240,num_signal))\n",
    "Testing_data = np.zeros((2*num_testing_patients*time*60*240,num_signal))\n",
    "\n",
    "offset = time*60*240\n",
    "Training_data[:num_training_patients*offset,:]  = Data[17*offset:77*offset,:]\n",
    "validation_data[:num_validation_patients*offset,:] = Data[77*offset:87*offset,:]\n",
    "Testing_data[:num_testing_patients*offset,:] = Data[0*offset:17*offset,:]\n",
    "\n",
    "Training_data[num_training_patients*offset:num_training_patients*2*offset,:] = Data[(87+17)*offset:(87+17+60)*offset,:]\n",
    "validation_data[num_validation_patients*offset:num_validation_patients*2*offset,:] = Data[(87+17+60)*offset:(87+17+60+10)*offset,:]\n",
    "Testing_data[num_testing_patients*offset:num_testing_patients*2*offset,:] = Data[(87)*offset,:(87+17)*offset]\n",
    "\n",
    "print(Training_data.shape)\n",
    "print(validation_data.shape)\n",
    "print(Testing_data.shape)"
   ]
  },
  {
   "cell_type": "code",
   "execution_count": null,
   "metadata": {},
   "outputs": [],
   "source": [
    "Training_data = Training_data.reshape(num_training_patients*2*num_half_data_chunks,period*240,num_signal)\n",
    "validation_data = validation_data.reshape(num_validation_patients*2*num_half_data_chunks,period*240,num_signal)\n",
    "Testing_data = Testing_data.reshape(num_testing_patients*2*num_half_data_chunks,period*240,num_signal)\n",
    "print(Training_data.shape)\n",
    "print(validation_data.shape)\n",
    "print(Testing_data.shape)"
   ]
  },
  {
   "cell_type": "code",
   "execution_count": null,
   "metadata": {},
   "outputs": [],
   "source": [
    "Label0 = np.zeros((num_training_patients,num_half_data_chunks))\n",
    "Label1 = np.ones((num_training_patients,num_half_data_chunks))\n",
    "Training_Label = np.concatenate((Label0, Label1), axis=0)\n",
    "print(Training_Label)\n",
    "print(Training_Label.shape)"
   ]
  },
  {
   "cell_type": "code",
   "execution_count": null,
   "metadata": {},
   "outputs": [],
   "source": [
    "Label0 = np.zeros((num_validation_patients,num_half_data_chunks))\n",
    "Label1 = np.ones((num_validation_patients,num_half_data_chunks))\n",
    "validation_Label = np.concatenate((Label0, Label1), axis=0)\n",
    "print(validation_Label.shape)"
   ]
  },
  {
   "cell_type": "code",
   "execution_count": null,
   "metadata": {},
   "outputs": [],
   "source": [
    "Label0 = np.zeros((num_testing_patients,num_half_data_chunks))\n",
    "Label1 = np.ones((num_testing_patients,num_half_data_chunks))\n",
    "Testing_Label = np.concatenate((Label0, Label1), axis=0)\n",
    "print(Testing_Label.shape)"
   ]
  },
  {
   "cell_type": "code",
   "execution_count": null,
   "metadata": {},
   "outputs": [],
   "source": [
    "Training_Label= Training_Label.reshape(num_training_patients*2*num_half_data_chunks)\n",
    "validation_Label= validation_Label.reshape(num_validation_patients*2*num_half_data_chunks)\n",
    "Testing_Label= Testing_Label.reshape(num_testing_patients*2*num_half_data_chunks)\n",
    "print(Training_Label.shape)\n",
    "print(validation_Label.shape)\n",
    "print(Testing_Label.shape)"
   ]
  },
  {
   "cell_type": "code",
   "execution_count": null,
   "metadata": {},
   "outputs": [],
   "source": [
    "'''\n",
    "plt.rcParams[\"figure.figsize\"] = (20,150)\n",
    "figure, axis = plt.subplots(22, 3)\n",
    "for i in range(3):\n",
    "    for j in range(22):\n",
    "        axis[j, i].plot(Training_data[j*3+i])\n",
    "        axis[j, i].set_title(\"Patient # {}\" .format(j*3+i))\n",
    "'''"
   ]
  },
  {
   "cell_type": "code",
   "execution_count": 1,
   "metadata": {},
   "outputs": [
    {
     "data": {
      "text/plain": [
       "'\\nfigure, axis = plt.subplots(6, 3)\\nplt.rcParams[\"figure.figsize\"] = (5,10)\\n\\nfor i in range(3):\\n    for j in range(6):\\n        axis[j, i].plot(Testing_data[j*3+i])\\n        axis[j, i].set_title(\"Patient # {}\" .format(67+j*3+i))\\n'"
      ]
     },
     "execution_count": 1,
     "metadata": {},
     "output_type": "execute_result"
    }
   ],
   "source": [
    "'''\n",
    "figure, axis = plt.subplots(6, 3)\n",
    "plt.rcParams[\"figure.figsize\"] = (5,10)\n",
    "\n",
    "for i in range(3):\n",
    "    for j in range(6):\n",
    "        axis[j, i].plot(Testing_data[j*3+i])\n",
    "        axis[j, i].set_title(\"Patient # {}\" .format(67+j*3+i))\n",
    "'''"
   ]
  },
  {
   "cell_type": "code",
   "execution_count": null,
   "metadata": {},
   "outputs": [],
   "source": [
    "print(Testing_Label)"
   ]
  },
  {
   "cell_type": "code",
   "execution_count": null,
   "metadata": {},
   "outputs": [],
   "source": [
    "from sklearn.utils import shuffle\n",
    "Training_data, Training_Label = shuffle(Training_data,Training_Label,random_state = 2021)\n",
    "validation_data, validation_Label = shuffle(validation_data, validation_Label,random_state = 2021)\n",
    "Testing_data, Testing_Label = shuffle(Testing_data, Testing_Label,random_state = 2021)"
   ]
  },
  {
   "cell_type": "code",
   "execution_count": null,
   "metadata": {},
   "outputs": [],
   "source": [
    "#Start of TCN model\n",
    "from tensorflow.keras.layers import Dense\n",
    "from tensorflow.keras.layers import InputLayer\n",
    "from tensorflow.keras import Input, Model\n",
    "from tcn import TCN, tcn_full_summary\n",
    "from sklearn.metrics import mean_squared_error"
   ]
  },
  {
   "cell_type": "code",
   "execution_count": null,
   "metadata": {},
   "outputs": [],
   "source": [
    "import tensorflow as tf\n",
    "from tensorflow import keras\n",
    "from tensorflow.keras import layers\n",
    "from tensorflow.keras.models import Sequential"
   ]
  },
  {
   "cell_type": "code",
   "execution_count": null,
   "metadata": {},
   "outputs": [],
   "source": [
    "#TCN Model Architecture\n",
    "input_dim = 240*60\n",
    "output_dim = 1\n",
    "batch_size, timesteps, input_dim = None, 14400, num_signal\n",
    "\n",
    "tcn_layer = TCN(input_shape=(14400, num_signal),padding='same',nb_stacks = 1,return_sequences=False, nb_filters=64,kernel_size=5, dropout_rate=0.3,use_batch_norm=True)\n",
    "# The receptive field tells you how far the model can see in terms of timesteps.\n",
    "print('Receptive field size =', tcn_layer.receptive_field)\n",
    "\n",
    "m = Sequential([\n",
    "    tcn_layer,\n",
    "    Dense(output_dim)\n",
    "])\n",
    "m.compile(optimizer='adam', loss='mse',metrics=[tf.keras.metrics.BinaryAccuracy()])\n"
   ]
  },
  {
   "cell_type": "code",
   "execution_count": null,
   "metadata": {},
   "outputs": [],
   "source": [
    "'''\n",
    "class TestCallback(keras.callbacks.Callback):\n",
    "    def __init__(self, test_data):\n",
    "        self.test_data = test_data\n",
    "\n",
    "    def on_epoch_end(self, epoch, logs={}):\n",
    "        x, y = self.test_data\n",
    "        loss, acc = self.model.evaluate(x, y, verbose=0)\n",
    "        print('\\nTesting loss: {}, acc: {}\\n'.format(loss, acc))\n",
    "'''"
   ]
  },
  {
   "cell_type": "code",
   "execution_count": null,
   "metadata": {},
   "outputs": [],
   "source": [
    "m.summary()"
   ]
  },
  {
   "cell_type": "code",
   "execution_count": null,
   "metadata": {},
   "outputs": [],
   "source": [
    "m.load_weights('./checkpoints/hours6_allsignal_model10')"
   ]
  },
  {
   "cell_type": "code",
   "execution_count": null,
   "metadata": {},
   "outputs": [],
   "source": [
    "Data = []"
   ]
  },
  {
   "cell_type": "code",
   "execution_count": null,
   "metadata": {},
   "outputs": [],
   "source": [
    "history = m.fit(x=Training_data, y=Training_Label,batch_size=64, epochs=10, validation_split=0.2, verbose =1,validation_data = (validation_data,validation_Label))"
   ]
  },
  {
   "cell_type": "code",
   "execution_count": null,
   "metadata": {},
   "outputs": [],
   "source": [
    "m.save_weights('./checkpoints/hours6_allsignal_model10')"
   ]
  },
  {
   "cell_type": "code",
   "execution_count": null,
   "metadata": {},
   "outputs": [],
   "source": [
    "print(\"Evaluate on test data\")\n",
    "results = m.evaluate(Testing_data, Testing_Label)\n",
    "print(\"test loss, test acc:\", results)\n"
   ]
  },
  {
   "cell_type": "code",
   "execution_count": null,
   "metadata": {},
   "outputs": [],
   "source": [
    "predict = m.predict(Testing_data)\n",
    "print(predict[0:20])\n",
    "print(predict.max())\n",
    "print(predict.min())\n",
    "print(Testing_Label[0:20])"
   ]
  },
  {
   "cell_type": "code",
   "execution_count": null,
   "metadata": {},
   "outputs": [],
   "source": [
    "#Confusion Matrix\n",
    "'''\n",
    "def predict_class(n):\n",
    "    min_p = 0\n",
    "    max_p = 1\n",
    "    if (((n-min_p)/max_p)>0.5):\n",
    "        return 1\n",
    "    else:\n",
    "        return 0\n",
    "\n",
    "pred = np.array(list(map(predict_class,predict)))\n",
    "print(pred)\n",
    "\n",
    "from sklearn.metrics import confusion_matrix\n",
    "from pandas import DataFrame\n",
    "import seaborn as sn\n",
    "\n",
    "columns = [\"Do not need MV\",\"Need MV\"]\n",
    "confm = confusion_matrix(Testing_Label, list(pred))\n",
    "df_cm = DataFrame(confm, index=columns, columns=columns)\n",
    "ax = sn.heatmap(df_cm, cmap='Blues', annot=True)\n",
    "'''"
   ]
  },
  {
   "cell_type": "code",
   "execution_count": null,
   "metadata": {},
   "outputs": [],
   "source": [
    "print(pred.shape)\n",
    "print(Testing_Label.shape)"
   ]
  },
  {
   "cell_type": "code",
   "execution_count": null,
   "metadata": {},
   "outputs": [],
   "source": [
    "plt.plot(history.history['binary_accuracy'])\n",
    "plt.xlabel(\"Last Iterations\")\n",
    "plt.ylabel(\"Binary_Accuracy\")"
   ]
  },
  {
   "cell_type": "code",
   "execution_count": null,
   "metadata": {},
   "outputs": [],
   "source": [
    "plt.plot(history.history['loss'])\n",
    "plt.xlabel(\"Last Iterations\")\n",
    "plt.ylabel(\"Loss\")"
   ]
  },
  {
   "cell_type": "code",
   "execution_count": null,
   "metadata": {},
   "outputs": [],
   "source": []
  }
 ],
 "metadata": {
  "kernelspec": {
   "display_name": "Python 3",
   "language": "python",
   "name": "python3"
  },
  "language_info": {
   "codemirror_mode": {
    "name": "ipython",
    "version": 3
   },
   "file_extension": ".py",
   "mimetype": "text/x-python",
   "name": "python",
   "nbconvert_exporter": "python",
   "pygments_lexer": "ipython3",
   "version": "3.6.12"
  }
 },
 "nbformat": 4,
 "nbformat_minor": 4
}
